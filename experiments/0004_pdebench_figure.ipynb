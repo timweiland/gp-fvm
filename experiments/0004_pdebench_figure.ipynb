{
 "cells": [
  {
   "cell_type": "code",
   "execution_count": null,
   "metadata": {},
   "outputs": [],
   "source": [
    "import numpy as np\n",
    "import pandas as pd\n",
    "\n",
    "from pathlib import Path\n",
    "from matplotlib import pyplot as plt"
   ]
  },
  {
   "cell_type": "code",
   "execution_count": null,
   "metadata": {},
   "outputs": [],
   "source": [
    "from dotenv import load_dotenv\n",
    "from pathlib import Path\n",
    "import os\n",
    "\n",
    "load_dotenv()\n",
    "\n",
    "output_path = Path(os.environ.get(\"OUTPUT_DIR\"))\n",
    "figures_path = Path(os.environ.get(\"FIGURES_DIR\"))"
   ]
  },
  {
   "cell_type": "code",
   "execution_count": null,
   "metadata": {},
   "outputs": [],
   "source": [
    "target_hdf_advection = \"1D_Advection_Sols_beta0.4.hdf5\"\n",
    "target_hdf_darcy = \"2D_DarcyFlow_beta1.0.hdf5\""
   ]
  },
  {
   "cell_type": "code",
   "execution_count": null,
   "metadata": {},
   "outputs": [],
   "source": [
    "advection_path = output_path / \"1d_advection\"\n",
    "advection_fv_path = advection_path / \"fv\" / \"results\"\n",
    "advection_col_path = advection_path / \"col\" / \"results\"\n",
    "\n",
    "darcy_path = output_path / \"2d_darcy\"\n",
    "darcy_fv_path = darcy_path / \"fv\" / \"results\"\n",
    "darcy_col_path = darcy_path / \"col\" / \"results\""
   ]
  },
  {
   "cell_type": "code",
   "execution_count": null,
   "metadata": {},
   "outputs": [],
   "source": [
    "import yaml\n",
    "\n",
    "def get_dfs(results_path, hdf_path):\n",
    "    args_paths = results_path.glob(\"**/args.yaml\")\n",
    "    N_pdes = []\n",
    "    dfs = []\n",
    "    for p in args_paths:\n",
    "        with open(p, \"r\") as f:\n",
    "            args = yaml.safe_load(f)\n",
    "            if not hdf_path in args[\"hdf\"]:\n",
    "                continue\n",
    "            if \"Advection\" in hdf_path:\n",
    "                N_pde = args[\"N_pde_t\"] * args[\"N_pde_x\"]\n",
    "            elif \"Darcy\" in hdf_path:\n",
    "                N_pde = args[\"N_pde_xy\"]**2\n",
    "            else:\n",
    "                raise ValueError(\"Unknown problem\")\n",
    "            N_bc = args[\"N_bc\"]\n",
    "            N_pdes.append(N_pde)\n",
    "        csv_path = p.with_name(\"results.csv\")\n",
    "        df = pd.read_csv(csv_path)\n",
    "        dfs.append(df)\n",
    "    order = np.argsort(N_pdes)\n",
    "    N_pdes = [N_pdes[i] for i in order]\n",
    "    dfs = [dfs[i] for i in order]\n",
    "    return N_pdes, dfs"
   ]
  },
  {
   "cell_type": "code",
   "execution_count": null,
   "metadata": {},
   "outputs": [],
   "source": [
    "N_pdes_advection_fv, dfs_advection_fv = get_dfs(advection_fv_path, target_hdf_advection)\n",
    "N_pdes_advection_col, dfs_advection_col = get_dfs(advection_col_path, target_hdf_advection)\n",
    "\n",
    "N_pdes_darcy_fv, dfs_darcy_fv = get_dfs(darcy_fv_path, target_hdf_darcy)\n",
    "N_pdes_darcy_col, dfs_darcy_col = get_dfs(darcy_col_path, target_hdf_darcy)"
   ]
  },
  {
   "cell_type": "code",
   "execution_count": null,
   "metadata": {},
   "outputs": [],
   "source": [
    "def get_L_infs(dfs):\n",
    "    return [df[\"L_inf_err\"].mean() for df in dfs]\n",
    "\n",
    "def get_RMSEs(dfs):\n",
    "    return [np.sqrt(df[\"MSE\"]).mean() for df in dfs]\n",
    "\n",
    "L_infs_advection_fv = get_L_infs(dfs_advection_fv)\n",
    "L_infs_advection_col = get_L_infs(dfs_advection_col)\n",
    "\n",
    "RMSEs_advection_fv = get_RMSEs(dfs_advection_fv)\n",
    "RMSEs_advection_col = get_RMSEs(dfs_advection_col)\n",
    "\n",
    "L_infs_darcy_fv = get_L_infs(dfs_darcy_fv)\n",
    "L_infs_darcy_col = get_L_infs(dfs_darcy_col)\n",
    "\n",
    "RMSEs_darcy_fv = get_RMSEs(dfs_darcy_fv)\n",
    "RMSEs_darcy_col = get_RMSEs(dfs_darcy_col)"
   ]
  },
  {
   "cell_type": "code",
   "execution_count": null,
   "metadata": {},
   "outputs": [],
   "source": [
    "from tueplots import bundles\n",
    "\n",
    "plt.rcParams.update(bundles.neurips2024(nrows=1, ncols=2))\n",
    "plt.rcParams['axes.prop_cycle'] = plt.cycler(color=plt.cm.Set1.colors)\n",
    "\n",
    "fig, ax = plt.subplots(1, 2)\n",
    "\n",
    "# Advection\n",
    "ax[0].plot(N_pdes_advection_fv, L_infs_advection_fv, \"o-\", label=\"GP-FVM\")\n",
    "ax[0].plot(N_pdes_advection_col, L_infs_advection_col, \"o-\", label=\"Collocation\")\n",
    "ax[0].set_xscale(\"log\", base=4)\n",
    "ax[0].set_yscale(\"log\", base=10)\n",
    "ax[0].set_xlabel(\"Number of PDE observations\")\n",
    "ax[0].set_ylabel(\"Maximum absolute error\")\n",
    "ax[0].axhline(y=2e-1, linestyle=\"--\", color=plt.cm.Set1.colors[2])\n",
    "ax[0].axhline(y=1.7, linestyle=\"--\", color=plt.cm.Set1.colors[6])\n",
    "ax[0].text(4**4, 2.3e-1, \"FNO\", color=plt.cm.Set1.colors[2], ha='center')\n",
    "ax[0].text(4**(5.2), 1.25, \"PINN, U-Net\", color=plt.cm.Set1.colors[6], ha='center')\n",
    "\n",
    "ax[0].legend()\n",
    "ax[0].set_title(\"1D Advection ($\\\\beta=0.4$)\")\n",
    "\n",
    "# Darcy\n",
    "ax[1].plot(N_pdes_darcy_fv, L_infs_darcy_fv, \"o-\", label=\"GP-FVM\")\n",
    "ax[1].plot(N_pdes_darcy_col, L_infs_darcy_col, \"o-\", label=\"Collocation\")\n",
    "ax[1].set_xscale(\"log\", base=4)\n",
    "ax[1].set_yscale(\"log\", base=10)\n",
    "ax[1].set_xlabel(\"Number of PDE observations\")\n",
    "ax[1].axhline(y=1.1e-1, linestyle=\"--\", color=plt.cm.Set1.colors[2])\n",
    "ax[1].axhline(y=9e-2, linestyle=\"--\", color=plt.cm.Set1.colors[3])\n",
    "ax[1].set_title(\"2D Darcy Flow ($\\\\beta=1.0$)\")\n",
    "ax[1].text(4**3, 1.2e-1, \"FNO\", color=plt.cm.Set1.colors[2], ha='center')\n",
    "ax[1].text(4**3, 9.5e-2, \"U-Net\", color=plt.cm.Set1.colors[3], ha='center')\n",
    "ax[1].legend()\n",
    "\n",
    "fig.savefig(f\"{figures_path}/advection_darcy_benchmark.pdf\")"
   ]
  }
 ],
 "metadata": {
  "kernelspec": {
   "display_name": "Python 3",
   "language": "python",
   "name": "python3"
  },
  "language_info": {
   "codemirror_mode": {
    "name": "ipython",
    "version": 3
   },
   "file_extension": ".py",
   "mimetype": "text/x-python",
   "name": "python",
   "nbconvert_exporter": "python",
   "pygments_lexer": "ipython3",
   "version": "3.11.9"
  }
 },
 "nbformat": 4,
 "nbformat_minor": 2
}
