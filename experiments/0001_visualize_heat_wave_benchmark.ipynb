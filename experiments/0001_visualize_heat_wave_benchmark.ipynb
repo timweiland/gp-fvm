{
 "cells": [
  {
   "cell_type": "code",
   "execution_count": null,
   "metadata": {},
   "outputs": [],
   "source": [
    "from dotenv import load_dotenv\n",
    "import os\n",
    "\n",
    "load_dotenv()\n",
    "\n",
    "figures_path = os.environ.get(\"FIGURES_DIR\")\n",
    "heat_folder = os.environ.get(\"HEAT_BENCHMARK_DIR\")\n",
    "wave_folder = os.environ.get(\"WAVE_BENCHMARK_DIR\")\n",
    "figures_path, heat_folder, wave_folder"
   ]
  },
  {
   "cell_type": "code",
   "execution_count": null,
   "metadata": {},
   "outputs": [],
   "source": [
    "from matplotlib import pyplot as plt\n",
    "from tueplots import bundles\n",
    "from tueplots import figsizes\n",
    "\n",
    "plt.rcParams.clear()\n",
    "plt.rcParams.update(bundles.icml2024())\n",
    "plt.rcParams.update(figsizes.icml2024_full(nrows=1, ncols=2))\n",
    "plt.rcParams['axes.prop_cycle'] = plt.cycler(color=plt.cm.Set1.colors)"
   ]
  },
  {
   "cell_type": "code",
   "execution_count": null,
   "metadata": {},
   "outputs": [],
   "source": [
    "import numpy as np\n",
    "import pandas as pd\n",
    "\n",
    "def plot_errors(output_folder, max_depth, num_dimensions, ax):\n",
    "    df_subdomain_errs = pd.read_csv(output_folder + \"errs_fv.csv\")\n",
    "    df_col_errs = pd.read_csv(output_folder + \"errs_col.csv\")\n",
    "\n",
    "    df_subdomain_errs = df_subdomain_errs.drop(df_subdomain_errs.columns[0], axis='columns')\n",
    "    df_col_errs = df_col_errs.drop(df_col_errs.columns[0], axis='columns')\n",
    "\n",
    "    levels = np.arange(-1, max_depth+1)\n",
    "    num_obs = lambda level: 0 if level == -1 else (2**num_dimensions) ** level\n",
    "    num_obs = np.vectorize(num_obs)\n",
    "\n",
    "    subdomain_vals = [float(x) for x in df_subdomain_errs.values.flatten()]\n",
    "    col_vals = [float(x) for x in df_col_errs.values.flatten()]\n",
    "    # Construct points for scatter plot\n",
    "    tile_factor = int(len(subdomain_vals) / len(levels))\n",
    "    points_subdomain = [np.tile(num_obs(levels), tile_factor), subdomain_vals]\n",
    "    points_col = [np.tile(num_obs(levels), tile_factor), col_vals]\n",
    "\n",
    "    subdomain_means = list(df_subdomain_errs.mean())\n",
    "    subdomain_stds = list(df_subdomain_errs.std())\n",
    "\n",
    "    col_means = list(df_col_errs.mean())\n",
    "    col_stds = list(df_col_errs.std())\n",
    "\n",
    "    subdomain_errs = np.array(subdomain_stds)\n",
    "    col_errs = np.array(col_stds)\n",
    "\n",
    "    ax.plot(num_obs(levels), subdomain_means, label=\"Subdomain\")\n",
    "    ax.plot(num_obs(levels), col_means, label=\"Collocation\")\n",
    "    # ax.errorbar(num_obs(levels), fv_means, yerr=fv_errs, capsize=5, marker=\"o\", label=\"Subdomain\")\n",
    "    # ax.errorbar(num_obs(levels), col_means, yerr=col_errs, capsize=5, marker=\"o\", label=\"Collocation\")\n",
    "\n",
    "    # Plot mins and maxs\n",
    "    # ax.plot(num_obs(levels), df_fv.min(), linestyle=\"--\", color=\"C0\")\n",
    "    # ax.plot(num_obs(levels), df_fv.max(), linestyle=\"--\", color=\"C0\")\n",
    "    # ax.plot(num_obs(levels), df_col.min(), linestyle=\"--\", color=\"C1\")\n",
    "    # ax.plot(num_obs(levels), df_col.max(), linestyle=\"--\", color=\"C1\")\n",
    "\n",
    "    # Scatter plot\n",
    "    ax.scatter(*points_subdomain, marker=\".\", color=\"C0\", alpha=0.4)\n",
    "    ax.scatter(*points_col, marker=\".\", color=\"C1\", alpha=0.4)\n",
    "\n",
    "    ax.set_xscale('symlog', base=(2**num_dimensions))\n",
    "    ax.set_yscale('log')\n",
    "    ax.set_xlabel('Number of observations')\n",
    "    ax.set_ylabel('Relative $L_\\infty$ error')\n",
    "    ax.grid()\n",
    "    ax.legend()"
   ]
  },
  {
   "cell_type": "code",
   "execution_count": null,
   "metadata": {},
   "outputs": [],
   "source": [
    "cols = plt.cm.Set1.colors[:2]\n",
    "cols = [(int(x * 255), int(y * 255), int(z * 255)) for x, y, z in cols]\n",
    "\n",
    "cols"
   ]
  },
  {
   "cell_type": "code",
   "execution_count": null,
   "metadata": {},
   "outputs": [],
   "source": [
    "golden_ratio = 1.61803398875\n",
    "fig, ax = plt.subplots(1, 2)\n",
    "plot_errors(heat_folder, 6, 2, ax[0])\n",
    "plot_errors(wave_folder, 5, 3, ax[1])\n",
    "ax[0].set_title(\"\\\\textbf{a)} 1D Heat Equation\")\n",
    "ax[1].set_title(\"\\\\textbf{b)} 2D Wave Equation\")\n",
    "\n",
    "fig.savefig(figures_path + \"benchmark_errors.pdf\")"
   ]
  },
  {
   "cell_type": "code",
   "execution_count": null,
   "metadata": {},
   "outputs": [],
   "source": [
    "fig, ax = plt.subplots(figsize=(2 * golden_ratio, 2))\n",
    "plot_errors(heat_folder, 6, 2, ax)\n",
    "fig.savefig(figures_path + \"1d_heat_benchmark.pdf\")"
   ]
  },
  {
   "cell_type": "code",
   "execution_count": null,
   "metadata": {},
   "outputs": [],
   "source": [
    "fig, ax = plt.subplots(figsize=(2 * golden_ratio, 2))\n",
    "plot_errors(wave_folder, 5, 3, ax)\n",
    "fig.savefig(figures_path + \"2d_wave_benchmark.pdf\")"
   ]
  }
 ],
 "metadata": {
  "kernelspec": {
   "display_name": "Python 3",
   "language": "python",
   "name": "python3"
  },
  "language_info": {
   "codemirror_mode": {
    "name": "ipython",
    "version": 3
   },
   "file_extension": ".py",
   "mimetype": "text/x-python",
   "name": "python",
   "nbconvert_exporter": "python",
   "pygments_lexer": "ipython3",
   "version": "3.11.9"
  }
 },
 "nbformat": 4,
 "nbformat_minor": 2
}
