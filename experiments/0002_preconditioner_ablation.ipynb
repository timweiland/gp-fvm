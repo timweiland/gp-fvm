{
 "cells": [
  {
   "cell_type": "code",
   "execution_count": null,
   "metadata": {},
   "outputs": [],
   "source": [
    "import numpy as np\n",
    "import probnum as pn\n",
    "import linpde_gp\n",
    "\n",
    "pn.config.default_solver_linpde_gp = linpde_gp.solvers.CholeskySolver(dense=True)"
   ]
  },
  {
   "cell_type": "code",
   "execution_count": null,
   "metadata": {},
   "outputs": [],
   "source": [
    "from dotenv import load_dotenv\n",
    "import os\n",
    "\n",
    "load_dotenv()\n",
    "\n",
    "figures_path = os.environ.get(\"FIGURES_DIR\")"
   ]
  },
  {
   "cell_type": "markdown",
   "metadata": {},
   "source": [
    "# General solution theory"
   ]
  },
  {
   "cell_type": "code",
   "execution_count": null,
   "metadata": {},
   "outputs": [],
   "source": [
    "# Set seed\n",
    "np.random.seed(2349032509)\n",
    "\n",
    "# Disable verbose output\n",
    "import pykeops\n",
    "pykeops.verbose = False"
   ]
  },
  {
   "cell_type": "code",
   "execution_count": null,
   "metadata": {},
   "outputs": [],
   "source": [
    "a = b = 1\n",
    "T = 2.\n",
    "domain = linpde_gp.domains.Box([[0, T], [0, a], [0, b]])\n",
    "spatial_domain = linpde_gp.domains.Box([[0., a], [0., b]])\n",
    "\n",
    "c = 1"
   ]
  },
  {
   "cell_type": "code",
   "execution_count": null,
   "metadata": {},
   "outputs": [],
   "source": [
    "N_samples = 10\n",
    "mean = np.array([\n",
    "    [1.0, -0.5],\n",
    "    [-0.5, 0.],\n",
    "    ])\n",
    "cov = np.array([\n",
    "    [0.1, 0.2],\n",
    "    [0.2, 0.3],\n",
    "    ])\n",
    "coefficients = np.random.normal(mean, cov, size=(N_samples,) + mean.shape)\n",
    "coefficients[0]"
   ]
  },
  {
   "cell_type": "code",
   "execution_count": null,
   "metadata": {},
   "outputs": [],
   "source": [
    "from linpde_gp.problems.pde import WaveEquationDirichletProblem\n",
    "\n",
    "def get_problem(coefficients):\n",
    "    return linpde_gp.problems.pde.WaveEquationDirichletProblem(\n",
    "        t0=0.,\n",
    "        T=T,\n",
    "        spatial_domain=spatial_domain,\n",
    "        c=c,\n",
    "        initial_values=linpde_gp.functions.TruncatedSineSeries(\n",
    "            spatial_domain,\n",
    "            coefficients=coefficients,\n",
    "        ),\n",
    "    )\n",
    "\n",
    "sample_problem = get_problem(coefficients[0])"
   ]
  },
  {
   "cell_type": "code",
   "execution_count": null,
   "metadata": {},
   "outputs": [],
   "source": [
    "from linpde_gp.benchmarking import SolutionErrorEstimator\n",
    "\n",
    "error_estimator = SolutionErrorEstimator(sample_problem.solution, domain)"
   ]
  },
  {
   "cell_type": "markdown",
   "metadata": {},
   "source": [
    "# Prior"
   ]
  },
  {
   "cell_type": "code",
   "execution_count": null,
   "metadata": {},
   "outputs": [],
   "source": [
    "lengthscale_t = 0.5\n",
    "lengthscale_x = a / 3\n",
    "lengthscale_y = b / 3\n",
    "output_scale = 1.0\n",
    "N_ic_xy = 15\n",
    "N_bc = T * 20\n",
    "\n",
    "lengthscale_t /= 2\n",
    "lengthscale_x /= 2\n",
    "lengthscale_y /= 2\n",
    "\n",
    "def get_prior(l_t, l_x, l_y, output_scale):\n",
    "    return pn.randprocs.GaussianProcess(\n",
    "        mean=linpde_gp.functions.Zero(input_shape=(3,)),\n",
    "        cov=output_scale**2\n",
    "        * linpde_gp.randprocs.covfuncs.TensorProduct(\n",
    "            linpde_gp.randprocs.covfuncs.Matern((), nu=2.5, lengthscales=l_t),\n",
    "            linpde_gp.randprocs.covfuncs.Matern((), nu=2.5, lengthscales=l_x),\n",
    "            linpde_gp.randprocs.covfuncs.Matern((), nu=2.5, lengthscales=l_y),\n",
    "        ),\n",
    "    )\n",
    "\n",
    "u_prior = get_prior(lengthscale_t, lengthscale_x, lengthscale_y, output_scale)"
   ]
  },
  {
   "cell_type": "code",
   "execution_count": null,
   "metadata": {},
   "outputs": [],
   "source": [
    "from linpde_gp.linfuncops.diffops import TimeDerivative\n",
    "\n",
    "N_ic_xy = 25\n",
    "N_bc_t = int(T * 20)\n",
    "N_bc_spatial = 20\n",
    "\n",
    "def condition_ic(prior):\n",
    "    X_ic = sample_problem.initial_domain.uniform_grid((N_ic_xy, N_ic_xy))\n",
    "    Y_ic = sample_problem.initial_condition.values(X_ic[..., 1:])\n",
    "\n",
    "    u_ic = prior.condition_on_observations(X=X_ic, Y=Y_ic)\n",
    "    return u_ic.condition_on_observations(X=X_ic, Y=Y_ic, L=TimeDerivative((3,)))\n",
    "\n",
    "u_ic = condition_ic(u_prior)"
   ]
  },
  {
   "cell_type": "code",
   "execution_count": null,
   "metadata": {},
   "outputs": [],
   "source": [
    "def condition_bc(prior):\n",
    "    boundary_x = domain.uniform_grid((N_bc_t, N_bc_spatial, 2))\n",
    "    boundary_y = domain.uniform_grid((N_bc_t, 2, N_bc_spatial))\n",
    "\n",
    "    u_bc = prior.condition_on_observations(X=boundary_x, Y=np.zeros(boundary_x.shape[:-1]))\n",
    "    return u_bc.condition_on_observations(X=boundary_y, Y=np.zeros(boundary_y.shape[:-1]))\n",
    "\n",
    "u_ic_bc = condition_bc(u_ic)"
   ]
  },
  {
   "cell_type": "code",
   "execution_count": null,
   "metadata": {},
   "outputs": [],
   "source": [
    "grid_l_t = np.linspace(domain[0][0] + 0.1, domain[0][1], 4)\n",
    "grid_l_xy = np.linspace(domain[1][0] + 0.1, domain[1][1], 4)"
   ]
  },
  {
   "cell_type": "code",
   "execution_count": null,
   "metadata": {},
   "outputs": [],
   "source": [
    "from gp_fvm.finite_volumes import get_grid_from_depth\n",
    "from tqdm.notebook import tqdm\n",
    "\n",
    "def get_u_ic_bc(lengthscale_t, lengthscale_xy):\n",
    "    u_prior = get_prior(lengthscale_t, lengthscale_xy, lengthscale_xy, output_scale)\n",
    "    u_ic = condition_ic(u_prior)\n",
    "    return condition_bc(u_ic)\n",
    "\n",
    "def error_fv(depth, lengthscale_t, lengthscale_xy):\n",
    "    u_ic_bc = get_u_ic_bc(lengthscale_t, lengthscale_xy)\n",
    "    domains = get_grid_from_depth(domain, depth)\n",
    "    fv = linpde_gp.linfunctls.FiniteVolumeFunctional(domains, sample_problem.pde.diffop)\n",
    "    solver=linpde_gp.solvers.CholeskySolver(dense=True)\n",
    "    if depth >= 5:\n",
    "        solver = linpde_gp.solvers.itergp.IterGP_CG_Solver(threshold=1e-2, max_iterations=1000, num_actions_compressed=1000)\n",
    "    u_fv = u_ic_bc.condition_on_observations(L=fv, Y=np.zeros(domains.shape), solver=solver, fresh_start=True)\n",
    "    return error_estimator(u_fv)\n",
    "\n",
    "def best_lengthscales(depth):\n",
    "    min_error = np.inf\n",
    "    l_t_min = None\n",
    "    l_xy_min = None\n",
    "\n",
    "    for l_t in grid_l_t:\n",
    "        for l_xy in grid_l_xy:\n",
    "            error = error_fv(depth, l_t, l_xy)\n",
    "            if error < min_error:\n",
    "                min_error = error\n",
    "                l_t_min = l_t\n",
    "                l_xy_min = l_xy\n",
    "    return l_t_min, l_xy_min\n",
    "\n",
    "# lengthscales = []\n",
    "# for i in tqdm(range(1, 7)):\n",
    "#     lengthscales.append(best_lengthscales(i))\n",
    "\n",
    "# lengthscales[0]"
   ]
  },
  {
   "cell_type": "code",
   "execution_count": null,
   "metadata": {},
   "outputs": [],
   "source": [
    "# Checkpoint\n",
    "lengthscales = [(0.1, 1.0), (0.1, 0.4), (0.7333333333333333, 0.7), (0.7333333333333333, 0.7), (0.7333333333333333, 0.4), (0.7333333333333333, 0.4), (0.1, 0.1)]"
   ]
  },
  {
   "cell_type": "code",
   "execution_count": null,
   "metadata": {},
   "outputs": [],
   "source": [
    "def no_preconditioner(depth, lengthscale_t, lengthscale_xy):\n",
    "    u_ic_bc = get_u_ic_bc(lengthscale_t, lengthscale_xy)\n",
    "    domains = get_grid_from_depth(domain, depth)\n",
    "    fv = linpde_gp.linfunctls.FiniteVolumeFunctional(domains, sample_problem.pde.diffop)\n",
    "    solver = linpde_gp.solvers.itergp.IterGP_CG_Solver(threshold=1e-2, max_iterations=1000, num_actions_compressed=1000)\n",
    "    u_fv = u_ic_bc.condition_on_observations(L=fv, Y=np.zeros(domains.shape), solver=solver, fresh_start=False)\n",
    "    u_fv.representer_weights\n",
    "    return u_fv.solver.solver_state.iteration\n",
    "\n",
    "def cholesky_preconditioner(depth, lengthscale_t, lengthscale_xy):\n",
    "    u_ic_bc = get_u_ic_bc(lengthscale_t, lengthscale_xy)\n",
    "    domains = get_grid_from_depth(domain, depth)\n",
    "    fv = linpde_gp.linfunctls.FiniteVolumeFunctional(domains, sample_problem.pde.diffop)\n",
    "    solver = linpde_gp.solvers.itergp.IterGP_CG_Solver(threshold=1e-2, max_iterations=1000, num_actions_compressed=1000)\n",
    "    u_fv = u_ic_bc.condition_on_observations(L=fv, Y=np.zeros(domains.shape), solver=solver, fresh_start=True)\n",
    "    u_fv.representer_weights\n",
    "    return u_fv.solver.solver_state.iteration\n",
    "\n",
    "def cholesky_and_multigrid_preconditioner(depth, coarse_depth, lengthscale_t, lengthscale_xy):\n",
    "    u_ic_bc = get_u_ic_bc(lengthscale_t, lengthscale_xy)\n",
    "    domains = get_grid_from_depth(domain, depth)\n",
    "    domains_coarse = get_grid_from_depth(domain, coarse_depth)\n",
    "    fv = linpde_gp.linfunctls.FiniteVolumeFunctional(domains, sample_problem.pde.diffop)\n",
    "    fv_coarse = linpde_gp.linfunctls.FiniteVolumeFunctional(domains_coarse, sample_problem.pde.diffop)\n",
    "    u_coarse = u_ic_bc.condition_on_observations(L=fv_coarse, Y=np.zeros(domains_coarse.shape))\n",
    "    solver = linpde_gp.solvers.itergp.IterGP_CG_Solver(threshold=1e-2, max_iterations=1000, num_actions_compressed=1000)\n",
    "    u_fv = u_coarse.condition_on_observations(L=fv, Y=np.zeros(domains.shape), solver=solver, fresh_start=True)\n",
    "    u_fv.representer_weights\n",
    "    return u_fv.solver.solver_state.iteration"
   ]
  },
  {
   "cell_type": "code",
   "execution_count": null,
   "metadata": {},
   "outputs": [],
   "source": [
    "iters_no_preconditioner = []\n",
    "iters_cholesky_preconditioner = []\n",
    "iters_cholesky_and_multigrid_preconditioner = []\n",
    "iters_cholesky_and_multigrid_preconditioner_depth_3 = []\n",
    "\n",
    "for depth in range(6+1):\n",
    "    print(f\"Depth {depth}\")\n",
    "    l_t, l_xy = lengthscales[depth]\n",
    "    iters_no_preconditioner.append(no_preconditioner(depth, l_t, l_xy))\n",
    "    iters_cholesky_preconditioner.append(cholesky_preconditioner(depth, l_t, l_xy))\n",
    "    if depth >= 3:\n",
    "        iters_cholesky_and_multigrid_preconditioner.append(cholesky_and_multigrid_preconditioner(depth, 2, l_t, l_xy))\n",
    "    if depth >= 4:\n",
    "        iters_cholesky_and_multigrid_preconditioner_depth_3.append(cholesky_and_multigrid_preconditioner(depth, 3, l_t, l_xy))"
   ]
  },
  {
   "cell_type": "code",
   "execution_count": null,
   "metadata": {},
   "outputs": [],
   "source": [
    "num_observations_no_preconditioner = [8**i for i in range(6+1)]\n",
    "num_observations_cholesky_preconditioner = num_observations_no_preconditioner\n",
    "num_observations_cholesky_and_multigrid_preconditioner = [8**i for i in range(3, 6+1)]\n",
    "num_observations_cholesky_and_multigrid_preconditioner_depth_3 = [8**i for i in range(4, 6+1)]"
   ]
  },
  {
   "cell_type": "code",
   "execution_count": null,
   "metadata": {},
   "outputs": [],
   "source": [
    "from matplotlib import pyplot as plt\n",
    "from tueplots import bundles, figsizes\n",
    "plt.rcParams.update(bundles.icml2024())\n",
    "plt.rcParams.update(figsizes.icml2024_full())\n",
    "plt.rcParams['axes.prop_cycle'] = plt.cycler(color=plt.cm.Set2.colors)\n",
    "\n",
    "fig, ax = plt.subplots()\n",
    "ax.plot(num_observations_no_preconditioner, iters_no_preconditioner, label=\"No preconditioner\")\n",
    "ax.plot(num_observations_cholesky_preconditioner, iters_cholesky_preconditioner, label=\"Cholesky preconditioner\")\n",
    "ax.plot(num_observations_cholesky_and_multigrid_preconditioner, iters_cholesky_and_multigrid_preconditioner, label=\"Cholesky + $8^2$ multigrid\", linestyle=\"--\")\n",
    "ax.plot(num_observations_cholesky_and_multigrid_preconditioner_depth_3, iters_cholesky_and_multigrid_preconditioner_depth_3, label=\"Cholesky + $8^3$ multigrid\", linestyle=\"--\")\n",
    "ax.set_xlabel(\"Number of observations\")\n",
    "ax.set_ylabel(\"Iterations\")\n",
    "ax.set_xscale('symlog', base=(2**3))\n",
    "ax.set_xticks([8**i for i in range(7)])\n",
    "ax.legend()\n",
    "ax.grid()\n",
    "fig.savefig(f\"{figures_path}/preconditioner_ablation.pdf\")"
   ]
  }
 ],
 "metadata": {
  "kernelspec": {
   "display_name": "Python 3.10.9 ('rp')",
   "language": "python",
   "name": "python3"
  },
  "language_info": {
   "codemirror_mode": {
    "name": "ipython",
    "version": 3
   },
   "file_extension": ".py",
   "mimetype": "text/x-python",
   "name": "python",
   "nbconvert_exporter": "python",
   "pygments_lexer": "ipython3",
   "version": "3.11.9"
  },
  "orig_nbformat": 4,
  "vscode": {
   "interpreter": {
    "hash": "e6e8c2dcdbd56f97393d936234f742b50420975831114bbb57672bab77d2e717"
   }
  }
 },
 "nbformat": 4,
 "nbformat_minor": 2
}
