{
 "cells": [
  {
   "cell_type": "code",
   "execution_count": null,
   "metadata": {},
   "outputs": [],
   "source": [
    "import linpde_gp\n",
    "import numpy as np\n",
    "import probnum as pn\n",
    "from gp_fvm.utils.figure_manager import FigureManager\n",
    "from gp_fvm.plot.dim1 import plot_function, compare_to_solution_gp, plot_gp\n",
    "\n",
    "pn.config.default_solver_linpde_gp = linpde_gp.solvers.CholeskySolver(dense=True)"
   ]
  },
  {
   "cell_type": "code",
   "execution_count": null,
   "metadata": {},
   "outputs": [],
   "source": [
    "from dotenv import load_dotenv\n",
    "import os\n",
    "\n",
    "load_dotenv()\n",
    "\n",
    "data_path = os.environ.get(\"DATA_DIR\")"
   ]
  },
  {
   "cell_type": "code",
   "execution_count": null,
   "metadata": {},
   "outputs": [],
   "source": [
    "from matplotlib import pyplot as plt"
   ]
  },
  {
   "cell_type": "code",
   "execution_count": null,
   "metadata": {},
   "outputs": [],
   "source": [
    "spatial_domain = linpde_gp.domains.asdomain([0.0, 1.0])\n",
    "temporal_domain = linpde_gp.domains.asdomain([0., 2.0])\n",
    "beta = 0.4\n",
    "\n",
    "domain = linpde_gp.domains.Box([temporal_domain, spatial_domain])"
   ]
  },
  {
   "cell_type": "code",
   "execution_count": null,
   "metadata": {},
   "outputs": [],
   "source": [
    "from linpde_gp.linfuncops.diffops import LinearDifferentialOperator, PartialDerivativeCoefficients, MultiIndex\n",
    "D = LinearDifferentialOperator(\n",
    "    coefficients=PartialDerivativeCoefficients(\n",
    "        {\n",
    "            (): {MultiIndex((1, 0)): 1.0, MultiIndex((0, 1)): beta},\n",
    "        },\n",
    "        (2,),\n",
    "        (),\n",
    "    ),\n",
    "    input_shapes=((2,), ()),\n",
    ")"
   ]
  },
  {
   "cell_type": "code",
   "execution_count": null,
   "metadata": {},
   "outputs": [],
   "source": [
    "from advection_utils import read_data, get_problem, get_ts, get_xs"
   ]
  },
  {
   "cell_type": "code",
   "execution_count": null,
   "metadata": {},
   "outputs": [],
   "source": [
    "from linpde_gp.linfunctls import (  # pylint: disable=import-outside-toplevel\n",
    "    _EvaluationFunctional,\n",
    ")\n",
    "\n",
    "def periodic_boundary_functional(X_left, X_right):\n",
    "    L_left = _EvaluationFunctional(\n",
    "            input_domain_shape=(2,),\n",
    "            input_codomain_shape=(),\n",
    "            X=X_left,\n",
    "        )\n",
    "    L_right = _EvaluationFunctional(\n",
    "            input_domain_shape=(2,),\n",
    "            input_codomain_shape=(),\n",
    "            X=X_right,\n",
    "        )\n",
    "    return L_left - L_right"
   ]
  },
  {
   "cell_type": "code",
   "execution_count": null,
   "metadata": {},
   "outputs": [],
   "source": [
    "lengthscale_t = 0.3\n",
    "lengthscale_x = 0.2\n",
    "output_scale = 1.0\n",
    "\n",
    "ic_stride = 10 # 1/10th of the original data\n",
    "N_bc = 50\n",
    "\n",
    "def get_prior(l_t, l_x, output_scale):\n",
    "    return pn.randprocs.GaussianProcess(\n",
    "        mean=linpde_gp.functions.Zero(input_shape=(2,)),\n",
    "        cov=output_scale**2\n",
    "        * linpde_gp.randprocs.covfuncs.TensorProduct(\n",
    "            linpde_gp.randprocs.covfuncs.Matern((), nu=1.5, lengthscales=l_t),\n",
    "            linpde_gp.randprocs.covfuncs.Matern((), nu=1.5, lengthscales=l_x),\n",
    "        ),\n",
    "    )\n",
    "\n",
    "u_prior = get_prior(lengthscale_t, lengthscale_x, output_scale)"
   ]
  },
  {
   "cell_type": "code",
   "execution_count": null,
   "metadata": {},
   "outputs": [],
   "source": [
    "hf = read_data(f\"{data_path}/1D_Advection_Sols_beta0.4.hdf5\")\n",
    "problem_idx = 42\n",
    "problem = get_problem(hf, problem_idx)\n",
    "ts = get_ts(hf)\n",
    "xs = get_xs(hf)\n",
    "problem[0][::12].shape, xs[::12].shape"
   ]
  },
  {
   "cell_type": "code",
   "execution_count": null,
   "metadata": {},
   "outputs": [],
   "source": [
    "from linpde_gp.randprocs.covfuncs import TensorProductGrid\n",
    "X_ic = TensorProductGrid([0.0], xs[::ic_stride].astype(np.float64))\n",
    "Y_ic = problem[0][::ic_stride].astype(np.float64)\n",
    "Y_ic = Y_ic.reshape(X_ic.shape[:-1])"
   ]
  },
  {
   "cell_type": "code",
   "execution_count": null,
   "metadata": {},
   "outputs": [],
   "source": [
    "plt.plot(X_ic[0, :, 1], Y_ic.reshape(-1))"
   ]
  },
  {
   "cell_type": "code",
   "execution_count": null,
   "metadata": {},
   "outputs": [],
   "source": [
    "u_ic = u_prior.condition_on_observations(Y_ic, X_ic)\n",
    "plot_gp(u_ic, domain, num_t=3)"
   ]
  },
  {
   "cell_type": "code",
   "execution_count": null,
   "metadata": {},
   "outputs": [],
   "source": [
    "N_bc = 50\n",
    "X_left = domain.uniform_grid((N_bc, 1))\n",
    "X_right = domain.uniform_grid((N_bc, 1), inset=(0, domain.bounds[1][1]))\n",
    "\n",
    "L_boundary = periodic_boundary_functional(X_left, X_right)\n",
    "Y_boundary = np.zeros(L_boundary.output_shape)\n",
    "\n",
    "u_ic_bc = u_ic.condition_on_observations(Y=Y_boundary, L=L_boundary)\n",
    "plot_gp(u_ic_bc, domain, num_t=3)"
   ]
  },
  {
   "cell_type": "code",
   "execution_count": null,
   "metadata": {},
   "outputs": [],
   "source": [
    "from gp_fvm.finite_volumes import get_grid_from_resolution\n",
    "from linpde_gp.linfunctls import FiniteVolumeFunctional\n",
    "\n",
    "domains = get_grid_from_resolution(domain, [80, 80])\n",
    "fv = FiniteVolumeFunctional(domains, D)\n",
    "u_all = u_ic_bc.condition_on_observations(L=fv, Y=np.zeros(domains.shape))\n",
    "plot_gp(u_all, domain, num_t=3)"
   ]
  },
  {
   "cell_type": "code",
   "execution_count": null,
   "metadata": {},
   "outputs": [],
   "source": [
    "from gp_fvm.plot.dim1 import plot_at_time\n",
    "from matplotlib.animation import FuncAnimation\n",
    "from IPython.display import HTML\n",
    "\n",
    "def animate_gp_sol(gp):\n",
    "    fig, ax = plt.subplots()\n",
    "\n",
    "    fps = 30\n",
    "    X_eval = domain.uniform_grid((int(fps * domain.bounds[0][1]), 40))\n",
    "    print(\"Mean computation...\")\n",
    "    means = gp.mean(X_eval)\n",
    "    print(\"Stds computation...\")\n",
    "    stds = np.sqrt(gp.cov.linop(X_eval).diagonal())\n",
    "    stds = stds.reshape(means.shape)\n",
    "    print(\"Done\")\n",
    "\n",
    "    def update(frame):\n",
    "        ax.clear()\n",
    "        ax.plot(X_eval[frame, :, 1], means[frame])\n",
    "        ax.fill_between(\n",
    "            X_eval[frame, :, 1],\n",
    "            means[frame] - 1.96 * stds[frame],\n",
    "            means[frame] + 1.96 * stds[frame],\n",
    "            alpha=0.2,\n",
    "            color='cornflowerblue',\n",
    "        )\n",
    "        # ax.set_title(f't = {X_eval[frame, :, 0]:.2f} sec')\n",
    "        ax.set_xlabel('x (m)')\n",
    "        ax.set_ylabel('u(t, x)')\n",
    "\n",
    "    interval = 1000/fps\n",
    "    return FuncAnimation(fig, update, frames=X_eval.shape[0], interval=interval)\n"
   ]
  },
  {
   "cell_type": "code",
   "execution_count": null,
   "metadata": {},
   "outputs": [],
   "source": [
    "HTML(animate_gp_sol(u_all).to_jshtml())"
   ]
  },
  {
   "cell_type": "code",
   "execution_count": null,
   "metadata": {},
   "outputs": [],
   "source": [
    "def gp_sol_errors(gp, sol, ts, xs, method=\"Linf\"):\n",
    "    \"\"\"\n",
    "        Returns a tuple of (Linf, MSE) errors\n",
    "    \"\"\"\n",
    "    assert sol.shape == (ts.size, xs.size)\n",
    "    X_eval = TensorProductGrid(ts, xs)\n",
    "    gp_preds = gp.mean(X_eval)\n",
    "    if method == \"Linf\":\n",
    "        return np.abs(gp_preds - sol).max()\n",
    "    elif method == \"MSE\":\n",
    "        return ((gp_preds - sol)**2).mean()\n",
    "    else:\n",
    "        raise Exception(\"Unsupported method: \" + method)"
   ]
  },
  {
   "cell_type": "code",
   "execution_count": null,
   "metadata": {},
   "outputs": [],
   "source": [
    "gp_sol_errors(u_all, problem, ts.astype(np.float64), xs.astype(np.float64), method=\"Linf\")"
   ]
  }
 ],
 "metadata": {
  "kernelspec": {
   "display_name": "ma",
   "language": "python",
   "name": "python3"
  },
  "language_info": {
   "codemirror_mode": {
    "name": "ipython",
    "version": 3
   },
   "file_extension": ".py",
   "mimetype": "text/x-python",
   "name": "python",
   "nbconvert_exporter": "python",
   "pygments_lexer": "ipython3",
   "version": "3.11.9"
  }
 },
 "nbformat": 4,
 "nbformat_minor": 2
}
