{
 "cells": [
  {
   "cell_type": "code",
   "execution_count": null,
   "metadata": {},
   "outputs": [],
   "source": [
    "import pickle\n",
    "import torch\n",
    "import numpy as np\n",
    "from matplotlib import pyplot as plt\n",
    "from tueplots import bundles\n",
    "\n",
    "plt.rcParams.update(bundles.neurips2024())"
   ]
  },
  {
   "cell_type": "code",
   "execution_count": null,
   "metadata": {},
   "outputs": [],
   "source": [
    "from dotenv import load_dotenv\n",
    "from pathlib import Path\n",
    "import os\n",
    "\n",
    "load_dotenv()\n",
    "\n",
    "figures_path = Path(os.environ.get(\"FIGURES_DIR\"))\n",
    "tsunami_dir = Path(os.environ.get(\"TSUNAMI_DIR\"))\n",
    "figures_path, tsunami_dir"
   ]
  },
  {
   "cell_type": "code",
   "execution_count": null,
   "metadata": {},
   "outputs": [],
   "source": [
    "filename = tsunami_dir / \"action_matrix.pkl\"\n",
    "with open(filename, 'rb') as f:\n",
    "    action_matrix = pickle.load(f)"
   ]
  },
  {
   "cell_type": "code",
   "execution_count": null,
   "metadata": {},
   "outputs": [],
   "source": [
    "N_subdomain = 90 * 170 * 20\n",
    "subdomain_only = action_matrix[-3*N_subdomain:, :]\n",
    "volumetric_actions = subdomain_only[:N_subdomain, :] + subdomain_only[N_subdomain:2*N_subdomain, :] + subdomain_only[2*N_subdomain:, :]\n",
    "\n",
    "time_actions = volumetric_actions.reshape((90, 170, 20, action_matrix.shape[1]))\n",
    "time_actions = time_actions.sum(axis=(1, 2))"
   ]
  },
  {
   "cell_type": "code",
   "execution_count": null,
   "metadata": {},
   "outputs": [],
   "source": [
    "time_actions.shape"
   ]
  },
  {
   "cell_type": "code",
   "execution_count": null,
   "metadata": {},
   "outputs": [],
   "source": [
    "fig, ax = plt.subplots()\n",
    "ax.imshow(time_actions[:, :500], vmin=time_actions.min(), vmax=time_actions.max(), interpolation='nearest')\n",
    "# Flip y axis\n",
    "ax.invert_yaxis()\n",
    "ax.set_xlabel(\"Iteration\")\n",
    "ax.set_ylabel(\"Time index\")\n",
    "\n",
    "#fig_path = \"./tsunami_action_matrix_moml.pdf\"\n",
    "fig_path = figures_path / \"tsunami_action_matrix.pdf\"\n",
    "fig.savefig(fig_path)"
   ]
  },
  {
   "cell_type": "code",
   "execution_count": null,
   "metadata": {},
   "outputs": [],
   "source": [
    "plt.imshow(time_actions[:, 500:1000], vmin=time_actions.min(), vmax=time_actions.max())"
   ]
  },
  {
   "cell_type": "code",
   "execution_count": null,
   "metadata": {},
   "outputs": [],
   "source": [
    "plt.imshow(time_actions[:, 1000:], vmin=time_actions.min(), vmax=time_actions.max())"
   ]
  },
  {
   "cell_type": "code",
   "execution_count": null,
   "metadata": {},
   "outputs": [],
   "source": [
    "plt.imshow(volumetric_actions[-100:, :])"
   ]
  },
  {
   "cell_type": "code",
   "execution_count": null,
   "metadata": {},
   "outputs": [],
   "source": [
    "plt.imshow(action_matrix[-200:, :])"
   ]
  }
 ],
 "metadata": {
  "kernelspec": {
   "display_name": "Python 3",
   "language": "python",
   "name": "python3"
  },
  "language_info": {
   "codemirror_mode": {
    "name": "ipython",
    "version": 3
   },
   "file_extension": ".py",
   "mimetype": "text/x-python",
   "name": "python",
   "nbconvert_exporter": "python",
   "pygments_lexer": "ipython3",
   "version": "3.11.9"
  }
 },
 "nbformat": 4,
 "nbformat_minor": 2
}
