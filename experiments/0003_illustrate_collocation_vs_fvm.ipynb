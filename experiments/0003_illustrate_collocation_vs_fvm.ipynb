{
 "cells": [
  {
   "cell_type": "code",
   "execution_count": null,
   "metadata": {},
   "outputs": [],
   "source": [
    "import numpy as np\n",
    "import probnum as pn\n",
    "import linpde_gp\n",
    "\n",
    "from matplotlib import pyplot as plt\n",
    "\n",
    "np.random.seed(932401)"
   ]
  },
  {
   "cell_type": "code",
   "execution_count": null,
   "metadata": {},
   "outputs": [],
   "source": [
    "from dotenv import load_dotenv\n",
    "from pathlib import Path\n",
    "import os\n",
    "\n",
    "load_dotenv()\n",
    "\n",
    "figures_path = Path(os.environ.get(\"FIGURES_DIR\"))"
   ]
  },
  {
   "cell_type": "code",
   "execution_count": null,
   "metadata": {},
   "outputs": [],
   "source": [
    "def true_fn(x):\n",
    "    return np.sin(x)\n",
    "\n",
    "def true_fn_deriv(x):\n",
    "    return np.cos(x)\n",
    "\n",
    "domain = linpde_gp.domains.Interval(0, 2 * np.pi)"
   ]
  },
  {
   "cell_type": "code",
   "execution_count": null,
   "metadata": {},
   "outputs": [],
   "source": [
    "u_prior = pn.randprocs.GaussianProcess(\n",
    "        mean=linpde_gp.functions.Zero(input_shape=()),\n",
    "        cov=linpde_gp.randprocs.covfuncs.Matern((), nu=2.5, lengthscales=np.pi/2),\n",
    "    )"
   ]
  },
  {
   "cell_type": "code",
   "execution_count": null,
   "metadata": {},
   "outputs": [],
   "source": [
    "dx = linpde_gp.linfuncops.diffops.Derivative(1)"
   ]
  },
  {
   "cell_type": "code",
   "execution_count": null,
   "metadata": {},
   "outputs": [],
   "source": [
    "u_bc = u_prior.condition_on_observations(X=domain.uniform_grid((2,)), Y=np.zeros((2,)), noise=1e-8)"
   ]
  },
  {
   "cell_type": "code",
   "execution_count": null,
   "metadata": {},
   "outputs": [],
   "source": [
    "N_eval = 50\n",
    "X_eval = domain.uniform_grid(N_eval)\n",
    "\n",
    "global_noise = np.random.randn(N_eval, 3)\n",
    "\n",
    "def plot_with_samples(gp, true_fn_label=None, fig=None, ax=None, noise=global_noise, gp_label=\"GP\"):\n",
    "    if fig is None or ax is None:\n",
    "        fig, ax = plt.subplots()\n",
    "    gp_label = r'\\nicefrac{d}{dx}(' + gp_label + \")\" if true_fn_label == \"derivative\" else gp_label\n",
    "    means = gp.mean(X_eval)\n",
    "    stds = np.sqrt(gp.cov.linop(X_eval).diagonal())\n",
    "    ax.plot(X_eval, means, label=gp_label)\n",
    "    ax.fill_between(X_eval, means - 1.96 * stds, means, color=\"cornflowerblue\", alpha=0.3)\n",
    "    ax.fill_between(X_eval, means + 1.96 * stds, means, color=\"cornflowerblue\", alpha=0.3)\n",
    "\n",
    "    # Samples\n",
    "    cov_mat = gp.cov.linop(X_eval)\n",
    "    samples = np.linalg.cholesky(cov_mat.todense()) @ noise\n",
    "    samples = means + samples.T\n",
    "    for i in range(samples.shape[0]):\n",
    "        ax.plot(X_eval, samples[i], color=\"gray\", alpha=0.4)\n",
    "    \n",
    "    if true_fn_label == \"original\":\n",
    "        ax.plot(X_eval, true_fn(X_eval), color=\"gold\", label=\"True\", linestyle=\"dashed\")\n",
    "    \n",
    "    if true_fn_label == \"derivative\":\n",
    "        ax.plot(X_eval, true_fn_deriv(X_eval), color=\"gold\", label=r'\\nicefrac{d}{dx}(True)', linestyle=\"dashed\")\n",
    "    \n",
    "    ax.legend()"
   ]
  },
  {
   "cell_type": "code",
   "execution_count": null,
   "metadata": {},
   "outputs": [],
   "source": [
    "plot_with_samples(u_bc, true_fn_label=\"original\")"
   ]
  },
  {
   "cell_type": "code",
   "execution_count": null,
   "metadata": {},
   "outputs": [],
   "source": [
    "X_col = domain.uniform_grid((4,), centered=True)\n",
    "u_col = u_bc.condition_on_observations(X=X_col, Y=true_fn_deriv(X_col), L=dx)"
   ]
  },
  {
   "cell_type": "code",
   "execution_count": null,
   "metadata": {},
   "outputs": [],
   "source": [
    "X_col"
   ]
  },
  {
   "cell_type": "code",
   "execution_count": null,
   "metadata": {},
   "outputs": [],
   "source": [
    "plot_with_samples(u_col)"
   ]
  },
  {
   "cell_type": "code",
   "execution_count": null,
   "metadata": {},
   "outputs": [],
   "source": [
    "from linpde_gp.domains import TensorProductDomain, VectorizedDomain\n",
    "\n",
    "domains = TensorProductDomain.from_endpoints(np.linspace(*domain, 4+1))\n",
    "domains_int = [d[0] for d in domains]\n",
    "domains = VectorizedDomain(domains_int)\n",
    "L_fv = linpde_gp.linfunctls.FiniteVolumeFunctional(domains, dx)"
   ]
  },
  {
   "cell_type": "code",
   "execution_count": null,
   "metadata": {},
   "outputs": [],
   "source": [
    "Y_fv = np.array([np.sin(d[1]) - np.sin(d[0]) for d in domains_int])\n",
    "Y_fv"
   ]
  },
  {
   "cell_type": "code",
   "execution_count": null,
   "metadata": {},
   "outputs": [],
   "source": [
    "u_fv = u_bc.condition_on_observations(L=L_fv, Y=Y_fv)"
   ]
  },
  {
   "cell_type": "code",
   "execution_count": null,
   "metadata": {},
   "outputs": [],
   "source": [
    "plot_with_samples(u_fv)"
   ]
  },
  {
   "cell_type": "code",
   "execution_count": null,
   "metadata": {},
   "outputs": [],
   "source": [
    "plot_with_samples(dx(u_col), true_fn_label=\"derivative\")"
   ]
  },
  {
   "cell_type": "code",
   "execution_count": null,
   "metadata": {},
   "outputs": [],
   "source": [
    "plot_with_samples(dx(u_fv), true_fn_label=\"derivative\")"
   ]
  },
  {
   "cell_type": "code",
   "execution_count": null,
   "metadata": {},
   "outputs": [],
   "source": [
    "from tueplots import bundles\n",
    "plt.rcParams.update(bundles.neurips2024(nrows=2, ncols=2))\n",
    "plt.rc(\"text.latex\", preamble=r'\\usepackage{nicefrac}')\n",
    "# plt.rcParams.update(bundles.beamer_moml())\n",
    "\n",
    "# plt.rcParams.clear()\n",
    "\n",
    "fig, ax = plt.subplots(2, 2)"
   ]
  },
  {
   "cell_type": "code",
   "execution_count": null,
   "metadata": {},
   "outputs": [],
   "source": [
    "plot_with_samples(u_col, \"original\", fig, ax[0, 0])\n",
    "plot_with_samples(dx(u_col), \"derivative\", fig, ax[1, 0])\n",
    "plot_with_samples(u_fv, \"original\", fig, ax[0, 1])\n",
    "plot_with_samples(dx(u_fv), \"derivative\", fig, ax[1, 1])"
   ]
  },
  {
   "cell_type": "code",
   "execution_count": null,
   "metadata": {},
   "outputs": [],
   "source": [
    "import matplotlib.ticker as tck\n",
    "\n",
    "ax[1, 0].plot(X_col, true_fn_deriv(X_col), \"x\", color=\"red\", alpha=0.6, markersize=8, markeredgewidth=2)\n",
    "plt.rcParams.update({\"text.usetex\": True})\n",
    "\n",
    "for i in range(len(Y_fv)):\n",
    "    y = Y_fv[i] / (np.pi / 2)\n",
    "    xstart = domains_int[i][0]\n",
    "    xstop = domains_int[i][1]\n",
    "    ax[1, 1].hlines(y, xstart, xstop, \"red\", lw=2, alpha=0.6)\n",
    "    ax[1, 1].vlines(xstart, y+0.2, y-0.2, \"red\", lw=2, alpha=0.6)\n",
    "    ax[1, 1].vlines(xstop, y+0.2, y-0.2, \"red\", lw=2, alpha=0.6)\n",
    "    ax[1, 1].plot(Y_fv[i], domains_int[i][0], domains_int[i][1])\n",
    "\n",
    "for i in [0, 1]:\n",
    "    for j in [0, 1]:\n",
    "        ax[i, j].set_xlim(0.0 - 0.1, 2*np.pi + 0.1)\n",
    "        ax[i, j].set_ylim(-2.0 - 0.2, 2.0)\n",
    "        ax[i, j].xaxis.set_major_locator(tck.FixedLocator(np.linspace(0.0, 2 * np.pi, 4+1)))\n",
    "        ax[i, j].set_xticklabels([\"0\", \"$\\\\nicefrac{\\\\pi}{2}$\", \"$\\\\pi$\", \"$\\\\nicefrac{3 \\\\pi}{2}$\", \"$2 \\\\pi$\"])\n",
    "\n",
    "ax[0, 0].set_title(\"Collocation\")\n",
    "ax[0, 1].set_title(\"FVM\")\n",
    "\n",
    "ax[0, 0].set_ylabel(\"$u(x)$\")\n",
    "ax[1, 0].set_ylabel(r'$\\nicefrac{d u}{dx}(x)$')\n",
    "ax[1, 0].set_xlabel(\"$x$\")\n",
    "ax[1, 1].set_xlabel(\"$x$\")"
   ]
  },
  {
   "cell_type": "code",
   "execution_count": null,
   "metadata": {},
   "outputs": [],
   "source": [
    "fig"
   ]
  },
  {
   "cell_type": "code",
   "execution_count": null,
   "metadata": {},
   "outputs": [],
   "source": [
    "fig.savefig(figures_path / \"collocation_vs_fvm.pdf\")"
   ]
  }
 ],
 "metadata": {
  "kernelspec": {
   "display_name": "Python 3",
   "language": "python",
   "name": "python3"
  },
  "language_info": {
   "codemirror_mode": {
    "name": "ipython",
    "version": 3
   },
   "file_extension": ".py",
   "mimetype": "text/x-python",
   "name": "python",
   "nbconvert_exporter": "python",
   "pygments_lexer": "ipython3",
   "version": "3.11.9"
  }
 },
 "nbformat": 4,
 "nbformat_minor": 2
}
