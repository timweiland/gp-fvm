{
 "cells": [
  {
   "cell_type": "code",
   "execution_count": 16,
   "metadata": {},
   "outputs": [],
   "source": [
    "import numpy as np\n",
    "import probnum as pn\n",
    "import linpde_gp\n",
    "from gp_fvm.plot.dim2 import animate_function, show_anim_notebook, animate_gp\n",
    "\n",
    "import pykeops\n",
    "pykeops.verbose = False\n",
    "\n",
    "pn.config.default_solver_linpde_gp = linpde_gp.solvers.CholeskySolver(dense=True)"
   ]
  },
  {
   "cell_type": "markdown",
   "metadata": {},
   "source": [
    "# Problem Specification"
   ]
  },
  {
   "cell_type": "code",
   "execution_count": null,
   "metadata": {},
   "outputs": [],
   "source": [
    "a = b = 1\n",
    "T = 2.\n",
    "domain = linpde_gp.domains.Box([[0, T], [0, a], [0, b]])\n",
    "spatial_domain = linpde_gp.domains.Box([[0., a], [0., b]])\n",
    "\n",
    "c = 1"
   ]
  },
  {
   "cell_type": "code",
   "execution_count": null,
   "metadata": {},
   "outputs": [],
   "source": [
    "from linpde_gp.problems.pde import WaveEquationDirichletProblem\n",
    "\n",
    "coeffs = np.zeros((3, 3))\n",
    "coeffs[0, 0] = 1.0\n",
    "coeffs[1, 1] = -0.5\n",
    "\n",
    "problem = linpde_gp.problems.pde.WaveEquationDirichletProblem(\n",
    "    t0=0.,\n",
    "    T=T,\n",
    "    spatial_domain=spatial_domain,\n",
    "    c=c,\n",
    "    initial_values=linpde_gp.functions.TruncatedSineSeries(\n",
    "        spatial_domain,\n",
    "        coefficients=coeffs,\n",
    "    ),\n",
    ")"
   ]
  },
  {
   "cell_type": "code",
   "execution_count": null,
   "metadata": {},
   "outputs": [],
   "source": [
    "anim = animate_function(problem.solution, domain, duration=4., use_tqdm=True, zlims=[-0.3, 1.0])\n",
    "show_anim_notebook(anim)"
   ]
  },
  {
   "cell_type": "code",
   "execution_count": null,
   "metadata": {},
   "outputs": [],
   "source": [
    "from linpde_gp.benchmarking import SolutionErrorEstimator\n",
    "\n",
    "error_estimator = SolutionErrorEstimator(problem.solution, domain)"
   ]
  },
  {
   "cell_type": "markdown",
   "metadata": {},
   "source": [
    "# Prior"
   ]
  },
  {
   "cell_type": "code",
   "execution_count": null,
   "metadata": {},
   "outputs": [],
   "source": [
    "lengthscale_t = 0.5\n",
    "lengthscale_x = a / 3\n",
    "lengthscale_y = b / 3\n",
    "output_scale = 1.0\n",
    "N_ic_xy = 8\n",
    "N_bc = T * 10\n",
    "\n",
    "def get_prior(l_t, l_x, l_y, output_scale):\n",
    "    return pn.randprocs.GaussianProcess(\n",
    "        mean=linpde_gp.functions.Zero(input_shape=(3,)),\n",
    "        cov=output_scale**2\n",
    "        * linpde_gp.randprocs.covfuncs.TensorProduct(\n",
    "            linpde_gp.randprocs.covfuncs.Matern((), nu=2.5, lengthscales=l_t),\n",
    "            linpde_gp.randprocs.covfuncs.Matern((), nu=2.5, lengthscales=l_x),\n",
    "            linpde_gp.randprocs.covfuncs.Matern((), nu=2.5, lengthscales=l_y),\n",
    "        ),\n",
    "    )\n",
    "\n",
    "u_prior = get_prior(lengthscale_t, lengthscale_x, lengthscale_y, output_scale)"
   ]
  },
  {
   "cell_type": "markdown",
   "metadata": {},
   "source": [
    "# Initial condition"
   ]
  },
  {
   "cell_type": "code",
   "execution_count": null,
   "metadata": {},
   "outputs": [],
   "source": [
    "from linpde_gp.linfuncops.diffops import TimeDerivative\n",
    "\n",
    "N_ic_xy = 25\n",
    "N_bc_t = int(T * 10)\n",
    "N_bc_spatial = 10\n",
    "\n",
    "def condition_ic(prior):\n",
    "    X_ic = problem.initial_domain.uniform_grid((N_ic_xy, N_ic_xy))\n",
    "    Y_ic = problem.initial_condition.values(X_ic[..., 1:])\n",
    "\n",
    "    u_ic = prior.condition_on_observations(X=X_ic, Y=Y_ic)\n",
    "    return u_ic.condition_on_observations(X=X_ic, Y=Y_ic, L=TimeDerivative((3,)))\n",
    "\n",
    "u_ic = condition_ic(u_prior)"
   ]
  },
  {
   "cell_type": "markdown",
   "metadata": {},
   "source": [
    "# Boundary condition"
   ]
  },
  {
   "cell_type": "code",
   "execution_count": null,
   "metadata": {},
   "outputs": [],
   "source": [
    "def condition_bc(prior):\n",
    "    boundary_x = domain.uniform_grid((N_bc_t, N_bc_spatial, 2))\n",
    "    boundary_y = domain.uniform_grid((N_bc_t, 2, N_bc_spatial))\n",
    "\n",
    "    u_bc = prior.condition_on_observations(X=boundary_x, Y=np.zeros(boundary_x.shape[:-1]))\n",
    "    return u_bc.condition_on_observations(X=boundary_y, Y=np.zeros(boundary_y.shape[:-1]))\n",
    "\n",
    "u_ic_bc = condition_bc(u_ic)\n",
    "\n",
    "#show_anim_notebook(animate_gp(u_ic_bc, domain, with_uncertainty=True))"
   ]
  },
  {
   "cell_type": "markdown",
   "metadata": {},
   "source": [
    "# PDE observations"
   ]
  },
  {
   "cell_type": "code",
   "execution_count": null,
   "metadata": {},
   "outputs": [],
   "source": [
    "from gp_fvm.finite_volumes import get_grid_from_depth\n",
    "\n",
    "eval_points = domain.uniform_grid((60, 40, 40))\n",
    "\n",
    "def condition_fv(prior, depth):\n",
    "    domains = get_grid_from_depth(domain, depth)\n",
    "    fv = linpde_gp.linfunctls.FiniteVolumeFunctional(domains, problem.pde.diffop)\n",
    "\n",
    "    if depth <= 4:\n",
    "        solver = linpde_gp.solvers.CholeskySolver(dense=True)\n",
    "    else:\n",
    "        solver = linpde_gp.solvers.itergp.IterGP_CG_Solver(threshold=1e-2, max_iterations=10000, eval_points=eval_points, num_actions_compressed=400)\n",
    "    return prior.condition_on_observations(L=fv, Y=np.zeros(domains.shape), solver=solver, fresh_start=depth > 4)\n",
    "\n",
    "example_depth = 5\n",
    "u_fv = condition_fv(u_ic_bc, example_depth)\n",
    "\n",
    "u_fv.representer_weights\n",
    "anim = animate_gp(u_fv, domain, zlims=[-0.3, 1.0], duration=2., with_uncertainty=True)"
   ]
  },
  {
   "cell_type": "code",
   "execution_count": null,
   "metadata": {},
   "outputs": [],
   "source": [
    "show_anim_notebook(anim)"
   ]
  },
  {
   "cell_type": "code",
   "execution_count": null,
   "metadata": {},
   "outputs": [],
   "source": [
    "error_estimator(u_fv)"
   ]
  }
 ],
 "metadata": {
  "kernelspec": {
   "display_name": "Python 3.10.9 ('rp')",
   "language": "python",
   "name": "python3"
  },
  "language_info": {
   "codemirror_mode": {
    "name": "ipython",
    "version": 3
   },
   "file_extension": ".py",
   "mimetype": "text/x-python",
   "name": "python",
   "nbconvert_exporter": "python",
   "pygments_lexer": "ipython3",
   "version": "3.11.9"
  },
  "orig_nbformat": 4,
  "vscode": {
   "interpreter": {
    "hash": "e6e8c2dcdbd56f97393d936234f742b50420975831114bbb57672bab77d2e717"
   }
  }
 },
 "nbformat": 4,
 "nbformat_minor": 2
}
