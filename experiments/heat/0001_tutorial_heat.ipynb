{
 "cells": [
  {
   "cell_type": "code",
   "execution_count": null,
   "metadata": {},
   "outputs": [],
   "source": [
    "import linpde_gp\n",
    "import numpy as np\n",
    "import probnum as pn\n",
    "from gp_fvm.plot.dim1 import plot_function, compare_to_solution_gp\n",
    "\n",
    "pn.config.default_solver_linpde_gp = linpde_gp.solvers.CholeskySolver(dense=True)"
   ]
  },
  {
   "cell_type": "markdown",
   "metadata": {},
   "source": [
    "# Problem"
   ]
  },
  {
   "cell_type": "code",
   "execution_count": null,
   "metadata": {},
   "outputs": [],
   "source": [
    "spatial_domain = linpde_gp.domains.asdomain([-1.0, 1.0])\n",
    "temporal_domain = linpde_gp.domains.asdomain([0., 5.])\n",
    "alpha = 0.1\n",
    "coefficients = [1.0, 0.5, 0.25]\n",
    "\n",
    "problem = linpde_gp.problems.pde.HeatEquationDirichletProblem(\n",
    "    t0=temporal_domain[0],\n",
    "    T=temporal_domain[1],\n",
    "    spatial_domain=spatial_domain,\n",
    "    alpha=alpha,\n",
    "    initial_values=linpde_gp.functions.TruncatedSineSeries(\n",
    "        spatial_domain,\n",
    "        coefficients=coefficients,\n",
    "    ),\n",
    ")\n",
    "\n",
    "box_domain = linpde_gp.domains.Box([problem.domain[0], problem.domain[1]])"
   ]
  },
  {
   "cell_type": "markdown",
   "metadata": {},
   "source": [
    "# Solution"
   ]
  },
  {
   "cell_type": "code",
   "execution_count": null,
   "metadata": {},
   "outputs": [],
   "source": [
    "plot_function(problem.solution, problem.domain, ylims=[0., 1.45])"
   ]
  },
  {
   "cell_type": "markdown",
   "metadata": {},
   "source": [
    "# Prior"
   ]
  },
  {
   "cell_type": "code",
   "execution_count": null,
   "metadata": {},
   "outputs": [],
   "source": [
    "lengthscale_t = 2.5\n",
    "lengthscale_x = 2.0\n",
    "output_scale = 1.0\n",
    "\n",
    "N_ic = 10\n",
    "N_bc = 50"
   ]
  },
  {
   "cell_type": "code",
   "execution_count": null,
   "metadata": {},
   "outputs": [],
   "source": [
    "def get_prior(l_t, l_x, output_scale):\n",
    "    return pn.randprocs.GaussianProcess(\n",
    "        mean=linpde_gp.functions.Zero(input_shape=(2,)),\n",
    "        cov=output_scale**2\n",
    "        * linpde_gp.randprocs.covfuncs.TensorProduct(\n",
    "            linpde_gp.randprocs.covfuncs.Matern((), nu=1.5, lengthscales=l_t),\n",
    "            linpde_gp.randprocs.covfuncs.Matern((), nu=2.5, lengthscales=l_x),\n",
    "        ),\n",
    "    )\n",
    "\n",
    "u_prior = get_prior(lengthscale_t, lengthscale_x, output_scale)"
   ]
  },
  {
   "cell_type": "markdown",
   "metadata": {},
   "source": [
    "# Initial condition"
   ]
  },
  {
   "cell_type": "code",
   "execution_count": null,
   "metadata": {},
   "outputs": [],
   "source": [
    "def condition_ic(prior):\n",
    "    X_ic = problem.initial_domain.uniform_grid(N_ic, inset=1e-6)\n",
    "    Y_ic = problem.initial_condition.values(X_ic[..., 1])\n",
    "\n",
    "    return prior.condition_on_observations(Y_ic, X_ic)"
   ]
  },
  {
   "cell_type": "code",
   "execution_count": null,
   "metadata": {},
   "outputs": [],
   "source": [
    "u_ic = condition_ic(u_prior)\n",
    "fig, _ = compare_to_solution_gp(u_ic, problem.solution, problem.domain, label=\"$u_{\\\\text{ic}}$\")"
   ]
  },
  {
   "cell_type": "markdown",
   "metadata": {},
   "source": [
    "# Boundary conditions"
   ]
  },
  {
   "cell_type": "code",
   "execution_count": null,
   "metadata": {},
   "outputs": [],
   "source": [
    "def condition_bc(prior):\n",
    "    u_ic_bc = prior\n",
    "    for bc in problem.boundary_conditions:\n",
    "        X_bc = bc.boundary.uniform_grid(N_bc)\n",
    "        Y_bc = bc.values(X_bc)\n",
    "\n",
    "        u_ic_bc = u_ic_bc.condition_on_observations(Y_bc, X=X_bc)\n",
    "    return u_ic_bc"
   ]
  },
  {
   "cell_type": "code",
   "execution_count": null,
   "metadata": {},
   "outputs": [],
   "source": [
    "u_ic_bc = condition_bc(u_ic)"
   ]
  },
  {
   "cell_type": "code",
   "execution_count": null,
   "metadata": {},
   "outputs": [],
   "source": [
    "fig, _ = compare_to_solution_gp(u_ic_bc, problem.solution, problem.domain, label=\"$u_{\\\\text{ic, bc}}$\", num_t=3)"
   ]
  },
  {
   "cell_type": "markdown",
   "metadata": {},
   "source": [
    "# Finite volumes"
   ]
  },
  {
   "cell_type": "markdown",
   "metadata": {},
   "source": [
    "## Utility"
   ]
  },
  {
   "cell_type": "code",
   "execution_count": null,
   "metadata": {},
   "outputs": [],
   "source": [
    "from gp_fvm.finite_volumes import get_grid_from_depth\n",
    "\n",
    "def condition_fv(prior, depth):\n",
    "    fv_domains = get_grid_from_depth(box_domain, depth)\n",
    "    fv = linpde_gp.linfunctls.FiniteVolumeFunctional(fv_domains, problem.pde.diffop)\n",
    "    return prior.condition_on_observations(L=fv, Y=np.zeros(fv_domains.shape))"
   ]
  },
  {
   "cell_type": "code",
   "execution_count": null,
   "metadata": {},
   "outputs": [],
   "source": [
    "u_fv = condition_fv(u_ic_bc, 3)"
   ]
  },
  {
   "cell_type": "code",
   "execution_count": null,
   "metadata": {},
   "outputs": [],
   "source": [
    "fig, _ = compare_to_solution_gp(u_fv, problem.solution, problem.domain, label='$u_{\\\\text{FV}}$', ylims=[0., 0.8], skip_t0=True)"
   ]
  }
 ],
 "metadata": {
  "kernelspec": {
   "display_name": "Python 3.10.9 ('rp')",
   "language": "python",
   "name": "python3"
  },
  "language_info": {
   "codemirror_mode": {
    "name": "ipython",
    "version": 3
   },
   "file_extension": ".py",
   "mimetype": "text/x-python",
   "name": "python",
   "nbconvert_exporter": "python",
   "pygments_lexer": "ipython3",
   "version": "3.11.9"
  },
  "orig_nbformat": 4,
  "vscode": {
   "interpreter": {
    "hash": "e6e8c2dcdbd56f97393d936234f742b50420975831114bbb57672bab77d2e717"
   }
  }
 },
 "nbformat": 4,
 "nbformat_minor": 2
}
