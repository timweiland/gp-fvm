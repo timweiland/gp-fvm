{
 "cells": [
  {
   "cell_type": "code",
   "execution_count": null,
   "metadata": {},
   "outputs": [],
   "source": [
    "import numpy as np\n",
    "import pickle"
   ]
  },
  {
   "cell_type": "code",
   "execution_count": null,
   "metadata": {},
   "outputs": [],
   "source": [
    "from dotenv import load_dotenv\n",
    "from pathlib import Path\n",
    "import os\n",
    "\n",
    "load_dotenv()\n",
    "\n",
    "figures_path = Path(os.environ.get(\"FIGURES_DIR\"))\n",
    "tsunami_dir = Path(os.environ.get(\"TSUNAMI_DIR\"))\n",
    "figures_path, tsunami_dir"
   ]
  },
  {
   "cell_type": "code",
   "execution_count": null,
   "metadata": {},
   "outputs": [],
   "source": [
    "eval_path = tsunami_dir / \"gp_eval.pkl\"\n",
    "eval_data = pickle.load(open(eval_path, 'rb'))"
   ]
  },
  {
   "cell_type": "code",
   "execution_count": null,
   "metadata": {},
   "outputs": [],
   "source": [
    "# output_folder = WORK_DIR + \"/projects/icml-2024/experiments/tsunami_with_bathymetry/outputs/63119/\"\n",
    "# slice_path = output_folder + \"slice_data.pkl\"\n",
    "# slice_data = pickle.load(open(slice_path, 'rb'))"
   ]
  },
  {
   "cell_type": "code",
   "execution_count": null,
   "metadata": {},
   "outputs": [],
   "source": [
    "X = eval_data[\"X\"]\n",
    "means = eval_data[\"means\"]\n",
    "covs = eval_data[\"covs\"]\n",
    "Hs = -eval_data[\"Hs\"] * 1000\n",
    "\n",
    "covs = covs.reshape(3, -1)\n",
    "covs = np.moveaxis(covs, 0, 1)\n",
    "covs = covs.reshape(means.shape)"
   ]
  },
  {
   "cell_type": "code",
   "execution_count": null,
   "metadata": {},
   "outputs": [],
   "source": [
    "from matplotlib import pyplot as plt\n",
    "from matplotlib import colors\n",
    "import cmocean\n",
    "\n",
    "def plot_at_fixed_time(X, mean, cov, Hs, fig=None, ax=None, vmax=1.0, zlims=(-3, 1.5)):\n",
    "    # bath_vals = bathymetry_vals(X[..., 1:])\n",
    "    t = X[0, 0, 0]\n",
    "    if fig is None or ax is None:\n",
    "        fig = plt.figure(figsize=(10, 8))\n",
    "        ax = fig.add_subplot(111, projection=\"3d\")\n",
    "    baths = Hs / 500\n",
    "    divnorm=colors.TwoSlopeNorm(vmin=baths.min(), vcenter=0., vmax=Hs.max())\n",
    "    ax.plot_surface(X[..., 1], X[..., 2], baths, cmap=cmocean.cm.topo, norm=divnorm, alpha=1.0)\n",
    "\n",
    "    ax.plot_surface(\n",
    "        X[..., 1], X[..., 2], mean[..., 0], alpha=0.8, cmap=cmocean.cm.dense\n",
    "    )\n",
    "    ax.plot_surface(\n",
    "        X[..., 1], X[..., 2], mean[..., 0] + 1.96 * np.sqrt(cov[..., 0]), alpha=0.6, cmap=cmocean.cm.dense\n",
    "    )\n",
    "    ax.set_zlim(*zlims)\n",
    "    ax.tick_params(axis=\"x\", pad=-2)\n",
    "    ax.tick_params(axis=\"y\", pad=-2)\n",
    "    ax.tick_params(axis=\"z\", pad=0)\n",
    "    ax.set_xlabel(\"x (km)\", labelpad=-7)\n",
    "    ax.set_ylabel(\"y (km)\", labelpad=-7.8)\n",
    "    ax.set_yticks([0, 30, 60, 100])\n",
    "    ax.set_zlabel(\"h (m)\", labelpad=-16.5)\n",
    "    ax.set_zticks([-2, 0, 2])\n",
    "    # # Rotate viewpoint\n",
    "    ax.view_init(azim=-70, elev=25)\n",
    "    dist_x = X[..., 1].max()\n",
    "    dist_y = X[..., 2].max()\n",
    "    ax.set_box_aspect([dist_x / dist_y, 1, 1])\n",
    "    # ax.set_title(f\"t = {t/60:.1f} mins\")"
   ]
  },
  {
   "cell_type": "code",
   "execution_count": null,
   "metadata": {},
   "outputs": [],
   "source": [
    "from tueplots import bundles\n",
    "from tueplots import figsizes\n",
    "plt.rcParams.update(bundles.neurips2024())\n",
    "plt.rcParams.update(figsizes.neurips2024())"
   ]
  },
  {
   "cell_type": "code",
   "execution_count": null,
   "metadata": {},
   "outputs": [],
   "source": [
    "k = 85\n",
    "fig = plt.figure()\n",
    "# ax = fig.add_subplot(221, projection=\"3d\")\n",
    "# plot_at_fixed_time(X[0], means[0], covs[0], Hs[0], vmax=1.96, fig=fig, ax=ax, zlims=(-3, 2))\n",
    "# ax = fig.add_subplot(222, projection=\"3d\")\n",
    "# plot_at_fixed_time(X[k], means[k], covs[k], Hs[k], vmax=1.96, fig=fig, ax=ax, zlims=(-3, 0.5))\n",
    "# ax = fig.add_subplot(223)\n",
    "# ax.imshow(covs[0][..., 0], vmin=covs.min(), vmax=covs.max())\n",
    "# ax = fig.add_subplot(224)\n",
    "# ax.imshow(covs[k][..., 0], vmin=covs.min(), vmax=covs.max())\n",
    "\n",
    "N_frames = 3\n",
    "# indices = np.linspace(0, 120 - 1, N_frames, dtype=int)\n",
    "indices = [0, 40, 100]\n",
    "print(indices)\n",
    "\n",
    "for i, label in zip(range(N_frames), [\"a\", \"b\", \"c\"]):\n",
    "    ax = fig.add_subplot(1, N_frames, i+1, projection=\"3d\")\n",
    "    plot_at_fixed_time(X[indices[i]], means[indices[i]], covs[indices[i]], Hs[indices[i]], vmax=1.96, fig=fig, ax=ax, zlims=(-2, 2))\n",
    "    title = \"\\\\textbf{\" + label + \")}$\\,$ t = \" + f\"{X[indices[i], 0, 0, 0]/60:.1f} mins\"\n",
    "    ax.set_title(title)\n",
    "\n",
    "fig.savefig(figures_path / \"tsunami_plot.pdf\")"
   ]
  },
  {
   "cell_type": "code",
   "execution_count": null,
   "metadata": {},
   "outputs": [],
   "source": [
    "fig, ax = plt.subplots(1, 3)\n",
    "\n",
    "stds = np.sqrt(covs)\n",
    "ax[0].imshow(covs[0][..., 0].T, vmin=covs.min(), vmax=covs.max())\n",
    "ax[0].set_xlabel(\"x index\")\n",
    "ax[0].set_ylabel(\"y index\")\n",
    "ax[0].set_title(\"\\\\textbf{a)} t = 0 mins\")\n",
    "ax[1].imshow(covs[indices[1]][..., 0].T, vmin=covs.min(), vmax=covs.max())\n",
    "# ax[1].set_title(\"\\\\mathbf\\{b\\} t =  mins\")\n",
    "frame1_str = \"\\\\textbf{b)} t = \" + f\"{X[indices[1], 0, 0, 0]/60:.1f} mins\"\n",
    "ax[1].set_title(frame1_str)\n",
    "ax[1].set_xlabel(\"x index\")\n",
    "im2 = ax[2].imshow(covs[indices[2]][..., 0].T, vmin=covs.min(), vmax=covs.max())\n",
    "frame2_str = \"\\\\textbf{c)} t = \" + f\"{X[indices[2], 0, 0, 0]/60:.1f} mins\"\n",
    "ax[2].set_title(frame2_str)\n",
    "ax[2].set_xlabel(\"x index\")\n",
    "cbar_ax = fig.add_axes([1.01, 0.15, 0.02, 0.7])  # Adjust the position and size as needed\n",
    "cbar = fig.colorbar(im2, cax=cbar_ax)\n",
    "\n",
    "fig.savefig(figures_path / \"tsunami_cov.pdf\")"
   ]
  },
  {
   "cell_type": "code",
   "execution_count": null,
   "metadata": {},
   "outputs": [],
   "source": [
    "from matplotlib.animation import FuncAnimation\n",
    "from tqdm.notebook import tqdm\n",
    "\n",
    "FPS = 20\n",
    "\n",
    "def animated_plot_batched(X, means, covs, Hs):\n",
    "    fps = FPS\n",
    "    interval = 1000 / fps\n",
    "    fig, ax = plt.subplots(subplot_kw={\"projection\": \"3d\"})\n",
    "\n",
    "    def animate(i):\n",
    "        ax.clear()\n",
    "        plot_at_fixed_time(X[i], means[i], covs[i], Hs[i], fig=fig, ax=ax, vmax=1.96)\n",
    "\n",
    "    anim = FuncAnimation(\n",
    "        fig, animate, frames=tqdm(range(means.shape[0])), interval=interval\n",
    "    )\n",
    "    return anim"
   ]
  },
  {
   "cell_type": "code",
   "execution_count": null,
   "metadata": {},
   "outputs": [],
   "source": [
    "from IPython.display import HTML\n",
    "from matplotlib.animation import FuncAnimation, FFMpegWriter\n",
    "\n",
    "plt.rcParams[\"animation.ffmpeg_path\"] = WORK_DIR + \"/ffmpeg-binary/ffmpeg\"\n",
    "\n",
    "anim = animated_plot_batched(X, means, covs, Hs)\n",
    "FFwriter = FFMpegWriter(fps=FPS, extra_args=[\"-vcodec\", \"libx264\"])\n",
    "anim.save(\"./sendai.mp4\", writer=FFwriter)"
   ]
  }
 ],
 "metadata": {
  "kernelspec": {
   "display_name": "Python 3",
   "language": "python",
   "name": "python3"
  },
  "language_info": {
   "codemirror_mode": {
    "name": "ipython",
    "version": 3
   },
   "file_extension": ".py",
   "mimetype": "text/x-python",
   "name": "python",
   "nbconvert_exporter": "python",
   "pygments_lexer": "ipython3",
   "version": "3.11.9"
  }
 },
 "nbformat": 4,
 "nbformat_minor": 2
}
